{
 "cells": [
  {
   "cell_type": "code",
   "execution_count": 2,
   "metadata": {},
   "outputs": [],
   "source": [
    "import pandas as pd"
   ]
  },
  {
   "cell_type": "code",
   "execution_count": 3,
   "metadata": {},
   "outputs": [
    {
     "data": {
      "text/html": [
       "<div>\n",
       "<style scoped>\n",
       "    .dataframe tbody tr th:only-of-type {\n",
       "        vertical-align: middle;\n",
       "    }\n",
       "\n",
       "    .dataframe tbody tr th {\n",
       "        vertical-align: top;\n",
       "    }\n",
       "\n",
       "    .dataframe thead th {\n",
       "        text-align: right;\n",
       "    }\n",
       "</style>\n",
       "<table border=\"1\" class=\"dataframe\">\n",
       "  <thead>\n",
       "    <tr style=\"text-align: right;\">\n",
       "      <th></th>\n",
       "      <th>DPT_EXE</th>\n",
       "      <th>DEPART</th>\n",
       "      <th>ARRIVEE</th>\n",
       "      <th>NBRE</th>\n",
       "    </tr>\n",
       "  </thead>\n",
       "  <tbody>\n",
       "    <tr>\n",
       "      <th>0</th>\n",
       "      <td>71</td>\n",
       "      <td>71528</td>\n",
       "      <td>69123</td>\n",
       "      <td>1</td>\n",
       "    </tr>\n",
       "    <tr>\n",
       "      <th>1</th>\n",
       "      <td>21</td>\n",
       "      <td>21142</td>\n",
       "      <td>21317</td>\n",
       "      <td>1</td>\n",
       "    </tr>\n",
       "    <tr>\n",
       "      <th>2</th>\n",
       "      <td>75</td>\n",
       "      <td>91350</td>\n",
       "      <td>91000</td>\n",
       "      <td>1</td>\n",
       "    </tr>\n",
       "    <tr>\n",
       "      <th>3</th>\n",
       "      <td>21</td>\n",
       "      <td>21663</td>\n",
       "      <td>71076</td>\n",
       "      <td>1</td>\n",
       "    </tr>\n",
       "    <tr>\n",
       "      <th>4</th>\n",
       "      <td>21</td>\n",
       "      <td>21304</td>\n",
       "      <td>75113</td>\n",
       "      <td>1</td>\n",
       "    </tr>\n",
       "  </tbody>\n",
       "</table>\n",
       "</div>"
      ],
      "text/plain": [
       "   DPT_EXE  DEPART  ARRIVEE  NBRE\n",
       "0       71   71528    69123     1\n",
       "1       21   21142    21317     1\n",
       "2       75   91350    91000     1\n",
       "3       21   21663    71076     1\n",
       "4       21   21304    75113     1"
      ]
     },
     "execution_count": 3,
     "metadata": {},
     "output_type": "execute_result"
    }
   ],
   "source": [
    "df = pd.read_csv('export.csv')\n",
    "df.head()"
   ]
  },
  {
   "cell_type": "code",
   "execution_count": 4,
   "metadata": {},
   "outputs": [
    {
     "name": "stdout",
     "output_type": "stream",
     "text": [
      "Code postal le plus fréquent pour DEPART : 21231\n",
      "Code postal le plus fréquent pour ARRIVEE : 21231\n"
     ]
    }
   ],
   "source": [
    "depart_freq = df['DEPART'].value_counts().idxmax()\n",
    "arrivee_freq = df['ARRIVEE'].value_counts().idxmax()\n",
    "\n",
    "print(f\"Code postal le plus fréquent pour DEPART : {depart_freq}\")\n",
    "print(f\"Code postal le plus fréquent pour ARRIVEE : {arrivee_freq}\")"
   ]
  },
  {
   "cell_type": "code",
   "execution_count": 5,
   "metadata": {},
   "outputs": [
    {
     "name": "stdout",
     "output_type": "stream",
     "text": [
      "Top 10 codes postaux les plus fréquents pour DEPART :\n",
      "DEPART\n",
      "21231    1667\n",
      "21617     622\n",
      "21054     510\n",
      "21603     396\n",
      "25056     294\n",
      "71076     289\n",
      "21166     266\n",
      "21425     224\n",
      "21154     188\n",
      "21515     184\n",
      "Name: count, dtype: int64\n",
      "\n",
      "Top 10 codes postaux les plus fréquents pour ARRIVEE :\n",
      "ARRIVEE\n",
      "21231    1634\n",
      "21617     635\n",
      "21054     509\n",
      "21603     428\n",
      "71076     287\n",
      "21166     282\n",
      "25056     256\n",
      "21154     204\n",
      "21425     202\n",
      "21515     198\n",
      "Name: count, dtype: int64\n"
     ]
    }
   ],
   "source": [
    "depart_top_10 = df['DEPART'].value_counts().head(10)\n",
    "arrivee_top_10 = df['ARRIVEE'].value_counts().head(10)\n",
    "\n",
    "print(\"Top 10 codes postaux les plus fréquents pour DEPART :\")\n",
    "print(depart_top_10)\n",
    "\n",
    "print(\"\\nTop 10 codes postaux les plus fréquents pour ARRIVEE :\")\n",
    "print(arrivee_top_10)"
   ]
  },
  {
   "cell_type": "code",
   "execution_count": 6,
   "metadata": {},
   "outputs": [
    {
     "name": "stdout",
     "output_type": "stream",
     "text": [
      "Nombre total de lignes : 18557\n",
      "\n",
      "Top 10 codes postaux les plus fréquents pour DEPART :\n",
      "DEPART\n",
      "21231    1667\n",
      "21617     622\n",
      "21054     510\n",
      "21603     396\n",
      "25056     294\n",
      "71076     289\n",
      "21166     266\n",
      "21425     224\n",
      "21154     188\n",
      "21515     184\n",
      "Name: count, dtype: int64\n",
      "\n",
      "Top 10 codes postaux les plus fréquents pour ARRIVEE :\n",
      "ARRIVEE\n",
      "21231    1634\n",
      "21617     635\n",
      "21054     509\n",
      "21603     428\n",
      "71076     287\n",
      "21166     282\n",
      "25056     256\n",
      "21154     204\n",
      "21425     202\n",
      "21515     198\n",
      "Name: count, dtype: int64\n",
      "\n",
      "Nombre total d'apparitions pour DEPART : 18557\n",
      "Nombre total d'apparitions pour ARRIVEE : 18557\n"
     ]
    }
   ],
   "source": [
    "total_rows = df.shape[0]\n",
    "\n",
    "depart_top_10 = df['DEPART'].value_counts().head(10)\n",
    "arrivee_top_10 = df['ARRIVEE'].value_counts().head(10)\n",
    "\n",
    "total_depart_appearances = df['DEPART'].value_counts().sum()\n",
    "total_arrivee_appearances = df['ARRIVEE'].value_counts().sum()\n",
    "\n",
    "print(f\"Nombre total de lignes : {total_rows}\")\n",
    "print(\"\\nTop 10 codes postaux les plus fréquents pour DEPART :\")\n",
    "print(depart_top_10)\n",
    "print(\"\\nTop 10 codes postaux les plus fréquents pour ARRIVEE :\")\n",
    "print(arrivee_top_10)\n",
    "print(f\"\\nNombre total d'apparitions pour DEPART : {total_depart_appearances}\")\n",
    "print(f\"Nombre total d'apparitions pour ARRIVEE : {total_arrivee_appearances}\")"
   ]
  },
  {
   "cell_type": "code",
   "execution_count": 7,
   "metadata": {},
   "outputs": [
    {
     "name": "stdout",
     "output_type": "stream",
     "text": [
      "Top 10 combinaisons les plus fréquentes entre DEPART et ARRIVEE :\n",
      "       DEPART  ARRIVEE  count\n",
      "3806    21231    21231     11\n",
      "4167    21231    21599      5\n",
      "5016    21278    21231      5\n",
      "0           0        0      4\n",
      "6497    21416    21231      4\n",
      "10591   25056    21572      4\n",
      "4153    21231    21584      4\n",
      "3221    21189    21231      4\n",
      "4151    21231    21582      4\n",
      "3822    21231    21247      4\n"
     ]
    }
   ],
   "source": [
    "combinations_freq = df.groupby(['DEPART', 'ARRIVEE']).size().reset_index(name='count')\n",
    "\n",
    "top_combinations = combinations_freq.sort_values(by='count', ascending=False).head(10)\n",
    "\n",
    "print(\"Top 10 combinaisons les plus fréquentes entre DEPART et ARRIVEE :\")\n",
    "print(top_combinations)"
   ]
  },
  {
   "cell_type": "code",
   "execution_count": 11,
   "metadata": {},
   "outputs": [
    {
     "name": "stdout",
     "output_type": "stream",
     "text": [
      "Le fichier filtré a été sauvegardé sous le nom 'filtered_code_postaux_paires.xlsx'\n"
     ]
    }
   ],
   "source": [
    "df_code_postaux = pd.read_excel(\"codePostauxBourgogneFrancheComte.xlsx\")\n",
    "df_couples = pd.read_csv(\"couples_depart_arrivee.csv\")\n",
    "\n",
    "# Renommer la colonne Code INSEE pour correspondre aux colonnes DEPART et ARRIVEE\n",
    "df_code_postaux = df_code_postaux.rename(columns={\"Code INSEE\": \"INSEE\"})\n",
    "\n",
    "# Merge pour trouver les détails des codes postaux pour chaque couple de départ et arrivée\n",
    "df_merged_depart = df_couples.merge(df_code_postaux, left_on='DEPART', right_on='INSEE', how='left')\n",
    "df_merged_depart = df_merged_depart.rename(columns={'Code Postal': 'Code Postal DEPART'}).drop('INSEE', axis=1)\n",
    "\n",
    "df_merged_arrivee = df_merged_depart.merge(df_code_postaux, left_on='ARRIVEE', right_on='INSEE', how='left')\n",
    "df_merged_arrivee = df_merged_arrivee.rename(columns={'Code Postal': 'Code Postal ARRIVEE'}).drop('INSEE', axis=1)\n",
    "\n",
    "# Filtrer le résultat pour n'avoir que les colonnes souhaitées avec toutes les informations\n",
    "filtered_df = df_merged_arrivee\n",
    "\n",
    "# Sauvegarde du fichier filtré en Excel\n",
    "filtered_df.to_excel(\"filtered_code_postaux_paires.xlsx\", index=False)\n",
    "\n",
    "print(\"Le fichier filtré a été sauvegardé sous le nom 'filtered_code_postaux_paires.xlsx'\")"
   ]
  },
  {
   "cell_type": "code",
   "execution_count": null,
   "metadata": {},
   "outputs": [],
   "source": [
    "import openrouteservice\n",
    "import time\n",
    "\n",
    "client = openrouteservice.Client(key='5b3ce3597851110001cf6248a2d67d3b0a9e4917b11f1e83ab06a71c')\n",
    "\n",
    "file_path = 'filtered_code_postaux_paires.xlsx'\n",
    "df_filtered = pd.read_excel(file_path)\n",
    "\n",
    "\n",
    "df_filtered['geo_point_2d DEPART'] = df_filtered['geo_point_2d DEPART'].apply(lambda x: tuple(map(float, x.split(','))))\n",
    "df_filtered['geo_point_2d ARRIVEE'] = df_filtered['geo_point_2d ARRIVEE'].apply(lambda x: tuple(map(float, x.split(','))))\n",
    "\n",
    "# obtenir la distance via l'API\n",
    "def get_distance(coord1, coord2):\n",
    "    try:\n",
    "        routes = client.directions([coord1, coord2])\n",
    "        distance = routes['routes'][0]['summary']['distance']  # en mètres\n",
    "        return distance / 1000  # Convertir en km\n",
    "    except Exception as e:\n",
    "        print(f\"Erreur lors du calcul de la distance entre {coord1} et {coord2}: {e}\")\n",
    "        return None\n",
    "\n",
    "# Calculer la distance pour chaque paire \n",
    "distances = []\n",
    "for idx, row in df_filtered.iterrows():\n",
    "    coord_depart = row['geo_point_2d DEPART']\n",
    "    coord_arrivee = row['geo_point_2d ARRIVEE']\n",
    "    distance = get_distance(coord_depart, coord_arrivee)\n",
    "    distances.append(distance)\n",
    "    time.sleep(1)  # Pause pour éviter de dépasser le quota API\n",
    "\n",
    "\n",
    "df_filtered['distance_en_km'] = distances\n",
    "\n",
    "df_filtered.to_excel('filtered_code_postaux_with_distances.xlsx', index=False)\n",
    "\n",
    "print(\"Le fichier avec les distances a été sauvegardé sous le nom 'filtered_code_postaux_with_distances.xlsx'\")"
   ]
  }
 ],
 "metadata": {
  "kernelspec": {
   "display_name": "base",
   "language": "python",
   "name": "python3"
  },
  "language_info": {
   "codemirror_mode": {
    "name": "ipython",
    "version": 3
   },
   "file_extension": ".py",
   "mimetype": "text/x-python",
   "name": "python",
   "nbconvert_exporter": "python",
   "pygments_lexer": "ipython3",
   "version": "3.12.4"
  }
 },
 "nbformat": 4,
 "nbformat_minor": 2
}
