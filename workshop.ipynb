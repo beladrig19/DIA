{
 "cells": [
  {
   "cell_type": "code",
   "execution_count": 1,
   "id": "6921ba2e",
   "metadata": {},
   "outputs": [
    {
     "name": "stdout",
     "output_type": "stream",
     "text": [
      "bienvenue dans le jeu de la dichotomie !\n"
     ]
    },
    {
     "data": {
      "text/plain": [
       "int"
      ]
     },
     "execution_count": 1,
     "metadata": {},
     "output_type": "execute_result"
    }
   ],
   "source": [
    "# step 1\n",
    "\n",
    "def main():\n",
    "    print(\"bienvenue dans le jeu de la dichotomie !\")\n",
    "    return int\n",
    "main()"
   ]
  },
  {
   "cell_type": "code",
   "execution_count": null,
   "id": "c7c24c3c",
   "metadata": {},
   "outputs": [
    {
     "name": "stdout",
     "output_type": "stream",
     "text": [
      "bienvenue dans le jeu de la dichotomie !\n"
     ]
    }
   ],
   "source": [
    "# step 2\n",
    "\n",
    "def main():\n",
    "    print(\"bienvenue dans le jeu de la dichotomie !\")\n",
    "    userName = input(\"Ton prenom : \") #je recupere le nom du joueur dans la variable, il va rentrée directement en console\n",
    "    return int\n",
    "main()"
   ]
  },
  {
   "cell_type": "code",
   "execution_count": null,
   "id": "6cb26fc2",
   "metadata": {},
   "outputs": [],
   "source": [
    "#step 3\n",
    "\n",
    "def main():\n",
    "    print(\"bienvenue dans le jeu de la dichotomie !\")\n",
    "    userName = input(\"Ton prenom : \") #je recupere le nom du joueur dans la variable, il va rentrée directement en console\n",
    "    min_value = 0\n",
    "    max_value = 100\n",
    "    print(userName, \"pense a un numero entre \", min_value, \"et \", max_value)\n",
    "    \n",
    "    return int\n",
    "\n",
    "main()"
   ]
  },
  {
   "cell_type": "code",
   "execution_count": 7,
   "id": "55f797a8",
   "metadata": {},
   "outputs": [
    {
     "name": "stdout",
     "output_type": "stream",
     "text": [
      "bienvenue dans le jeu de la dichotomie !\n",
      "Ton prenom : patrick\n",
      "patrick pense a un numero entre  0 et  100\n"
     ]
    },
    {
     "data": {
      "text/plain": [
       "int"
      ]
     },
     "execution_count": 7,
     "metadata": {},
     "output_type": "execute_result"
    }
   ],
   "source": [
    "#step 4\n",
    "\n",
    "def main():\n",
    "    print(\"bienvenue dans le jeu de la dichotomie !\")\n",
    "    \n",
    "    #je recupere le nom du joueur dans la variable, il va rentrée directement en console\n",
    "    userName = input(\"Ton prenom : \")\n",
    "    min_value = 0\n",
    "    max_value = 100\n",
    "    print(userName, \"pense a un numero entre \", min_value, \"et \", max_value)\n",
    "    compteur = 0\n",
    "    while input != \"=\":\n",
    "        milieu = (max_value + min_value)/2\n",
    "        print(\"est-ce votro nombre est plus grand, plus petit ou egal a \", str(milieu))\n",
    "        compteur += 1\n",
    "        if reponse == \"+\":\n",
    "            min_value = milieu   \n",
    "        elif reponse == \"-\":\n",
    "            \n",
    "            print(\"est-ce votro nombre est plus grand, plus petit ou egal a \", (max_value/2) - 25 )\n",
    "        \n",
    "    \n",
    "    \n",
    "    return int\n",
    "\n",
    "main()"
   ]
  },
  {
   "cell_type": "code",
   "execution_count": null,
   "id": "ea99982e",
   "metadata": {},
   "outputs": [],
   "source": []
  }
 ],
 "metadata": {
  "kernelspec": {
   "display_name": "Python 3 (ipykernel)",
   "language": "python",
   "name": "python3"
  },
  "language_info": {
   "codemirror_mode": {
    "name": "ipython",
    "version": 3
   },
   "file_extension": ".py",
   "mimetype": "text/x-python",
   "name": "python",
   "nbconvert_exporter": "python",
   "pygments_lexer": "ipython3",
   "version": "3.11.5"
  }
 },
 "nbformat": 4,
 "nbformat_minor": 5
}
