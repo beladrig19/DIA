{
 "cells": [
  {
   "cell_type": "code",
   "execution_count": 1,
   "id": "e5886264",
   "metadata": {},
   "outputs": [
    {
     "name": "stdout",
     "output_type": "stream",
     "text": [
      "['13.5\\n', '17\\n', '9.5\\n', '12\\n', '14\\n', '6\\n', '5.5\\n', '8.5\\n', '10.5\\n', '29\\n', '14\\n', '9\\n', '15.5\\n', '11.5\\n', '16\\n', '18\\n', '13\\n', '12.5\\n', '15.5\\n', '17']\n"
     ]
    }
   ],
   "source": [
    "with open(\"note.txt\", \"r\") as a: # la funzione built in 'OPEN' ouvre des fiches e le mette nella variabile a\n",
    "    print(a.readlines()) # leggo tutte le linee e le print \n",
    "    "
   ]
  },
  {
   "cell_type": "code",
   "execution_count": 2,
   "id": "9335441c",
   "metadata": {},
   "outputs": [
    {
     "name": "stdout",
     "output_type": "stream",
     "text": [
      "[13.5, 17.0, 9.5, 12.0, 14.0, 6.0, 5.5, 8.5, 10.5, 29.0, 14.0, 9.0, 15.5, 11.5, 16.0, 18.0, 13.0, 12.5, 15.5, 17.0]\n",
      "la moyen est egale a : 13.375\n"
     ]
    }
   ],
   "source": [
    "l = []#liste vide pour mettre dedans les element extrait de note.txt\n",
    "\n",
    "with open(\"note.txt\", \"r\") as a: #jouvre le ficher note.txt in mode r = read\n",
    "    l = a.read().splitlines() #petite astuce pour pas faire appareitre les \\n \n",
    "    \n",
    "for i in range(0, len(l)): #boucle pour prendre touts les elements dans l \n",
    "    l[i] = float(l[i]) # touts les elements de l (l[i]) sont transforme en float \n",
    "    \n",
    "print(l) \n",
    "\n",
    "x = float(sum(l)/len(l))\n",
    "moyen = f\"la moyen est egale a : {x}\"\n",
    "\n",
    "    \n",
    "print(moyen)\n",
    "\n",
    "\n",
    "    \n",
    "        \n",
    "    \n",
    "    \n",
    "    "
   ]
  },
  {
   "cell_type": "code",
   "execution_count": 4,
   "id": "9e672a84",
   "metadata": {},
   "outputs": [],
   "source": [
    "l = []\n",
    "with open(\"note.txt\", \"r\") as a: #jouvre le ficher note.txt in mode r = read\n",
    "    l = a.read().splitlines() #petite astuce pour pas faire appareitre les \\n \n",
    "for i in range(0, len(l)): #boucle pour prendre touts les elements dans l \n",
    "    l[i] = float(l[i]) # touts les elements de l (l[i]) sont transforme en float \n",
    "    \n",
    "with open(\"note2.txt\", \"w\") as b: #je ouvre et cree le ficher note2.txt en mode write(w)\n",
    "    for element in l:  #boucle pour prendre chaque element dans la liste l\n",
    "        if element >= 10:  # si l'element prise est...\n",
    "            note = \"admis \\n\" #variable note = ..\n",
    "        else:                 #sinon\n",
    "            note = \"recale \\n\"#variable note = ...\n",
    "        b.write(f\"{element} {note}\") #ecri dans le ficher note2.txt touts les elements de la liste l avec le note\n",
    "        \n",
    "        \n",
    "        "
   ]
  },
  {
   "cell_type": "code",
   "execution_count": 4,
   "id": "01d2b34a",
   "metadata": {},
   "outputs": [],
   "source": [
    "import numpy as np\n",
    "import matplotlib.pyplot as plt\n",
    "import pandas as pd"
   ]
  },
  {
   "cell_type": "code",
   "execution_count": 7,
   "id": "b02da723",
   "metadata": {},
   "outputs": [],
   "source": [
    "data = pd.read_excel(\"titanic.xls\")"
   ]
  },
  {
   "cell_type": "code",
   "execution_count": 8,
   "id": "840c7881",
   "metadata": {},
   "outputs": [
    {
     "data": {
      "text/plain": [
       "(1309, 14)"
      ]
     },
     "execution_count": 8,
     "metadata": {},
     "output_type": "execute_result"
    }
   ],
   "source": [
    "data.shape"
   ]
  },
  {
   "cell_type": "code",
   "execution_count": 10,
   "id": "573e1385",
   "metadata": {},
   "outputs": [],
   "source": [
    "data = data.drop([\"name\",\"ticket\",\"fare\",\"cabin\",\"embarked\",\"boat\",\"body\",\"home.dest\",\"sibsp\",\"parch\"], axis=1)"
   ]
  },
  {
   "cell_type": "code",
   "execution_count": 11,
   "id": "2b7b9a80",
   "metadata": {},
   "outputs": [
    {
     "data": {
      "text/html": [
       "<div>\n",
       "<style scoped>\n",
       "    .dataframe tbody tr th:only-of-type {\n",
       "        vertical-align: middle;\n",
       "    }\n",
       "\n",
       "    .dataframe tbody tr th {\n",
       "        vertical-align: top;\n",
       "    }\n",
       "\n",
       "    .dataframe thead th {\n",
       "        text-align: right;\n",
       "    }\n",
       "</style>\n",
       "<table border=\"1\" class=\"dataframe\">\n",
       "  <thead>\n",
       "    <tr style=\"text-align: right;\">\n",
       "      <th></th>\n",
       "      <th>pclass</th>\n",
       "      <th>survived</th>\n",
       "      <th>sex</th>\n",
       "      <th>age</th>\n",
       "    </tr>\n",
       "  </thead>\n",
       "  <tbody>\n",
       "    <tr>\n",
       "      <th>0</th>\n",
       "      <td>1</td>\n",
       "      <td>1</td>\n",
       "      <td>female</td>\n",
       "      <td>29.0000</td>\n",
       "    </tr>\n",
       "    <tr>\n",
       "      <th>1</th>\n",
       "      <td>1</td>\n",
       "      <td>1</td>\n",
       "      <td>male</td>\n",
       "      <td>0.9167</td>\n",
       "    </tr>\n",
       "    <tr>\n",
       "      <th>2</th>\n",
       "      <td>1</td>\n",
       "      <td>0</td>\n",
       "      <td>female</td>\n",
       "      <td>2.0000</td>\n",
       "    </tr>\n",
       "    <tr>\n",
       "      <th>3</th>\n",
       "      <td>1</td>\n",
       "      <td>0</td>\n",
       "      <td>male</td>\n",
       "      <td>30.0000</td>\n",
       "    </tr>\n",
       "    <tr>\n",
       "      <th>4</th>\n",
       "      <td>1</td>\n",
       "      <td>0</td>\n",
       "      <td>female</td>\n",
       "      <td>25.0000</td>\n",
       "    </tr>\n",
       "  </tbody>\n",
       "</table>\n",
       "</div>"
      ],
      "text/plain": [
       "   pclass  survived     sex      age\n",
       "0       1         1  female  29.0000\n",
       "1       1         1    male   0.9167\n",
       "2       1         0  female   2.0000\n",
       "3       1         0    male  30.0000\n",
       "4       1         0  female  25.0000"
      ]
     },
     "execution_count": 11,
     "metadata": {},
     "output_type": "execute_result"
    }
   ],
   "source": [
    "data.head()"
   ]
  },
  {
   "cell_type": "code",
   "execution_count": 12,
   "id": "ec8f275c",
   "metadata": {},
   "outputs": [
    {
     "data": {
      "text/html": [
       "<div>\n",
       "<style scoped>\n",
       "    .dataframe tbody tr th:only-of-type {\n",
       "        vertical-align: middle;\n",
       "    }\n",
       "\n",
       "    .dataframe tbody tr th {\n",
       "        vertical-align: top;\n",
       "    }\n",
       "\n",
       "    .dataframe thead th {\n",
       "        text-align: right;\n",
       "    }\n",
       "</style>\n",
       "<table border=\"1\" class=\"dataframe\">\n",
       "  <thead>\n",
       "    <tr style=\"text-align: right;\">\n",
       "      <th></th>\n",
       "      <th>pclass</th>\n",
       "      <th>survived</th>\n",
       "      <th>age</th>\n",
       "    </tr>\n",
       "  </thead>\n",
       "  <tbody>\n",
       "    <tr>\n",
       "      <th>count</th>\n",
       "      <td>1309.000000</td>\n",
       "      <td>1309.000000</td>\n",
       "      <td>1046.000000</td>\n",
       "    </tr>\n",
       "    <tr>\n",
       "      <th>mean</th>\n",
       "      <td>2.294882</td>\n",
       "      <td>0.381971</td>\n",
       "      <td>29.881135</td>\n",
       "    </tr>\n",
       "    <tr>\n",
       "      <th>std</th>\n",
       "      <td>0.837836</td>\n",
       "      <td>0.486055</td>\n",
       "      <td>14.413500</td>\n",
       "    </tr>\n",
       "    <tr>\n",
       "      <th>min</th>\n",
       "      <td>1.000000</td>\n",
       "      <td>0.000000</td>\n",
       "      <td>0.166700</td>\n",
       "    </tr>\n",
       "    <tr>\n",
       "      <th>25%</th>\n",
       "      <td>2.000000</td>\n",
       "      <td>0.000000</td>\n",
       "      <td>21.000000</td>\n",
       "    </tr>\n",
       "    <tr>\n",
       "      <th>50%</th>\n",
       "      <td>3.000000</td>\n",
       "      <td>0.000000</td>\n",
       "      <td>28.000000</td>\n",
       "    </tr>\n",
       "    <tr>\n",
       "      <th>75%</th>\n",
       "      <td>3.000000</td>\n",
       "      <td>1.000000</td>\n",
       "      <td>39.000000</td>\n",
       "    </tr>\n",
       "    <tr>\n",
       "      <th>max</th>\n",
       "      <td>3.000000</td>\n",
       "      <td>1.000000</td>\n",
       "      <td>80.000000</td>\n",
       "    </tr>\n",
       "  </tbody>\n",
       "</table>\n",
       "</div>"
      ],
      "text/plain": [
       "            pclass     survived          age\n",
       "count  1309.000000  1309.000000  1046.000000\n",
       "mean      2.294882     0.381971    29.881135\n",
       "std       0.837836     0.486055    14.413500\n",
       "min       1.000000     0.000000     0.166700\n",
       "25%       2.000000     0.000000    21.000000\n",
       "50%       3.000000     0.000000    28.000000\n",
       "75%       3.000000     1.000000    39.000000\n",
       "max       3.000000     1.000000    80.000000"
      ]
     },
     "execution_count": 12,
     "metadata": {},
     "output_type": "execute_result"
    }
   ],
   "source": [
    "data.describe()"
   ]
  },
  {
   "cell_type": "code",
   "execution_count": 29,
   "id": "d062e04b",
   "metadata": {},
   "outputs": [
    {
     "name": "stdout",
     "output_type": "stream",
     "text": [
      "Langage de programmation;Créé par ;apparu;Extension\n",
      "Python;Guido van Rossum;1991;.py\n",
      "JavaScript;Brendan Eich; 1995;.js\n",
      "PHP;Ramsus Ledorf;1994;.php\n",
      "\n"
     ]
    }
   ],
   "source": [
    "k = []\n",
    "\n",
    "with open(\"data.csv\", \"r\") as b:\n",
    "    k = b.read()  \n",
    "print(k)\n",
    "\n",
    "    "
   ]
  },
  {
   "cell_type": "code",
   "execution_count": 5,
   "id": "42d210ae",
   "metadata": {},
   "outputs": [
    {
     "name": "stdout",
     "output_type": "stream",
     "text": [
      "{'Langage de programmation;Créé par ;apparu;Extension': 'Python;Guido van Rossum;1991;.py'}\n",
      "{'Langage de programmation;Créé par ;apparu;Extension': 'JavaScript;Brendan Eich; 1995;.js'}\n",
      "{'Langage de programmation;Créé par ;apparu;Extension': 'PHP;Ramsus Ledorf;1994;.php'}\n"
     ]
    }
   ],
   "source": [
    "import csv\n",
    "reader = csv.DictReader(open(r\"data.csv\"))\n",
    "for raw in reader:\n",
    "    print(raw)"
   ]
  },
  {
   "cell_type": "code",
   "execution_count": null,
   "id": "d9e6f5f2",
   "metadata": {},
   "outputs": [],
   "source": []
  }
 ],
 "metadata": {
  "kernelspec": {
   "display_name": "Python 3 (ipykernel)",
   "language": "python",
   "name": "python3"
  },
  "language_info": {
   "codemirror_mode": {
    "name": "ipython",
    "version": 3
   },
   "file_extension": ".py",
   "mimetype": "text/x-python",
   "name": "python",
   "nbconvert_exporter": "python",
   "pygments_lexer": "ipython3",
   "version": "3.11.5"
  }
 },
 "nbformat": 4,
 "nbformat_minor": 5
}
